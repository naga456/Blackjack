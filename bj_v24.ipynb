{
  "cells": [
    {
      "metadata": {
        "_uuid": "c458c47dfa32f5d11deeed3666c6f69a153f3a21"
      },
      "cell_type": "markdown",
      "source": "A simple game of black jack to demonstrate some machine learning models:\n1. Logistic Regression\n2. Naive Bayes\n3. Random Forest\n4. Neural Network (multi layer perceptron)"
    },
    {
      "metadata": {
        "_cell_guid": "79c7e3d0-c299-4dcb-8224-4455121ee9b0",
        "collapsed": true,
        "_uuid": "d629ff2d2480ee46fbb7e2d37f6b5fab8052498a",
        "trusted": false
      },
      "cell_type": "markdown",
      "source": "# Setting up the environment and collecting data\n"
    },
    {
      "metadata": {
        "trusted": true,
        "_uuid": "e8c2c9a32840b7b7f26afd8a09152bca1f32eef5"
      },
      "cell_type": "code",
      "source": "#WL - Empty function.  \ndef should_hit(player_total, dealer_card_val, player_aces):\n    \"\"\"Return True if the player should hit (request another card) given the current game\n    state, or False if the player should stay. player_aces is the number of aces the player has.\n    \"\"\"\n    return False",
      "execution_count": null,
      "outputs": []
    },
    {
      "metadata": {
        "trusted": true,
        "_uuid": "1ed70efd9e03b72c335511ffb39254cc4225b9cf"
      },
      "cell_type": "code",
      "source": "from learntools.core import binder; binder.bind(globals())\nfrom learntools.python.ex3 import q7 as blackjack\n#print('Setup complete.')",
      "execution_count": null,
      "outputs": []
    },
    {
      "metadata": {
        "trusted": true,
        "_uuid": "d85ae7005ec57466486068c5859c8a29849ce75c"
      },
      "cell_type": "code",
      "source": "from contextlib import redirect_stdout\nfrom io import StringIO\nimport numpy as np\ndef simulate_game(verbose=False):\n    out_buffer = StringIO()\n    \n    with redirect_stdout(out_buffer):\n        blackjack.simulate_one_game()\n    out_str = out_buffer.getvalue()\n    #print(\"william\",out_str)\n    if verbose: \n        print(\"verbose\",out_str)\n    return any(['Player wins' in x for x in out_str.split('\\n')]) # if any lines say player wins then we won\n#simulate_game(True)\nsimulate_game(False)",
      "execution_count": null,
      "outputs": []
    },
    {
      "metadata": {
        "trusted": true,
        "_uuid": "4f46c2dc095209845982a5827be50f5725329f51"
      },
      "cell_type": "code",
      "source": "#Play games.  Record the initial conditions.  Randomly select the moves.  Record the outcome.\nglobal val_list\nval_list = []\ndef should_hit(player_total, dealer_card_val, player_aces):\n    global val_list\n    cur_move = np.random.choice([True, False])\n    val_list+=[(player_total, dealer_card_val, player_aces, cur_move)]\n    return cur_move\n\nsimulate_game(False)\n#print(val_list)",
      "execution_count": null,
      "outputs": []
    },
    {
      "metadata": {
        "trusted": true,
        "_uuid": "b400a8c68ed245d6540d354d5884ee8a08ab76ab"
      },
      "cell_type": "code",
      "source": "\nimport pandas as pd\nout_rows=[]\nfor i in range(175000):\n    val_list=[]\n    c_score = simulate_game(False)\n    #print(\"william\",c_score)\n    for i, (player_total, dealer_card_val, player_aces, cur_move) in enumerate(reversed(val_list)):\n        score = 1.0*c_score if i==0 else 0.4+0.1*c_score\n        out_rows+=[{'result': score,\n                    'player_total': player_total, \n                    'dealer_card_val': dealer_card_val, \n                    'player_aces': player_aces, \n                    'cur_move': cur_move,\n                    'winning_hand': c_score\n                   }]\nmove_df = pd.DataFrame(out_rows)\nprint('Win Percentages: {:2.2f}'.format(move_df[move_df['result'].isin([0.0, 1.0])]['result'].mean()*100))\nmove_df.to_csv('all_games.csv', index=False) # save the results\n#move_df.head(10)",
      "execution_count": null,
      "outputs": []
    },
    {
      "metadata": {
        "trusted": true,
        "_uuid": "bae4c27facdbf25a9ed195f6dc4777178eaab34f"
      },
      "cell_type": "code",
      "source": "#get winning moves only\ncriteria = move_df['result']>=0.5\nmove_df = move_df[criteria]\n#move_df.describe()\n#move_df.head(10)",
      "execution_count": null,
      "outputs": []
    },
    {
      "metadata": {
        "_uuid": "c2e10a902c29b6722c37a894af287c4892bf5c72"
      },
      "cell_type": "markdown",
      "source": "# Build different models"
    },
    {
      "metadata": {
        "trusted": true,
        "_uuid": "d5ca4e3fc74b2da8a1c710b6b4a6cb3550a6bac7"
      },
      "cell_type": "code",
      "source": "#build the model (Logistic Regression)\nX = move_df[[\"dealer_card_val\",\"player_aces\",\"player_total\"]]\n#print(X.head())\nY = move_df[\"cur_move\"]\n#print(Y.describe())\nfrom sklearn.linear_model import LogisticRegression\nlr = LogisticRegression(solver='lbfgs')\nlr = lr.fit(X,Y)",
      "execution_count": null,
      "outputs": []
    },
    {
      "metadata": {
        "trusted": true,
        "_uuid": "4bd8355c3c5b62e1b0935eeb6198acb429551b80"
      },
      "cell_type": "code",
      "source": "#WL - build model (Naive Bayes)\nX = move_df[[\"dealer_card_val\",\"player_aces\",\"player_total\"]]\nY = move_df[\"cur_move\"]\nfrom sklearn.naive_bayes import GaussianNB\nNB_classifier = GaussianNB()\nNB_classifier.fit(X,Y)",
      "execution_count": null,
      "outputs": []
    },
    {
      "metadata": {
        "trusted": true,
        "_uuid": "d5283c139ed888c7876b3a42ff86afce07c03e05"
      },
      "cell_type": "code",
      "source": "#WL - build model (Random Forest Classifier)\nX = move_df[[\"dealer_card_val\",\"player_aces\",\"player_total\"]]\nY = move_df[\"cur_move\"]\nfrom sklearn.ensemble import RandomForestClassifier\nRF_classifier = RandomForestClassifier(n_estimators=100,criterion='entropy',random_state=0)\nRF_classifier.fit(X,Y)",
      "execution_count": null,
      "outputs": []
    },
    {
      "metadata": {
        "trusted": true,
        "_uuid": "68268b99a48cecc2440ef5778baf8cf250d30a1f"
      },
      "cell_type": "code",
      "source": "#WL - build model (Neural Network)\nX = move_df[['dealer_card_val','player_aces','player_total']]\nY = move_df['cur_move']\nfrom sklearn.neural_network import MLPClassifier\nnn = MLPClassifier(solver='lbfgs',alpha=1e-5, hidden_layer_sizes=(5,2), random_state=1)\nnn.fit(X,Y)",
      "execution_count": null,
      "outputs": []
    },
    {
      "metadata": {
        "_uuid": "3323b3123407bcc8ebc1c628f51d0e8d15aff0b7"
      },
      "cell_type": "markdown",
      "source": "# Test the models"
    },
    {
      "metadata": {
        "trusted": true,
        "_uuid": "dabd5fa9337222ed6c2cf43f71bfc6960c1c3d27"
      },
      "cell_type": "code",
      "source": "#WL - test the model (Neural Network)\nprediction = nn.predict([[1,0,18]])\nprint(\"prediction (expect False)=\",prediction)\n\nprediction = nn.predict([[8,0,8]])\nprint(\"prediction (expect True)=\",prediction)",
      "execution_count": null,
      "outputs": []
    },
    {
      "metadata": {
        "trusted": true,
        "_uuid": "075a96b11bb1e78837dbaec6215fca128b1a50df"
      },
      "cell_type": "code",
      "source": "#WL - test the model (Naive Bayes)\nprediction = NB_classifier.predict([[1,0,18]])\nprint(\"prediction (expect False)=\",prediction)\n\nprediction = NB_classifier.predict([[8,0,8]])\nprint(\"prediction (expect True)=\",prediction)",
      "execution_count": null,
      "outputs": []
    },
    {
      "metadata": {
        "trusted": true,
        "_uuid": "6c899c12b2497a9a55f04a7b758e808621972501"
      },
      "cell_type": "code",
      "source": "#WL - test the model (Random Forest Classifier)\nprediction = RF_classifier.predict([[1,0,18]])\nprint(\"prediction (expect False)=\",prediction)\n\nprediction = RF_classifier.predict([[8,0,8]])\nprint(\"prediction (expect True)=\",prediction)",
      "execution_count": null,
      "outputs": []
    },
    {
      "metadata": {
        "trusted": true,
        "_uuid": "140d33f1d2d3086738944d0552dea3bebeb7053e"
      },
      "cell_type": "code",
      "source": "#WL - Test the model (Logistic Regression)\nprediction_lr = lr.predict([[1,0,18]])\nprint(\"prediction (expect False)=\",prediction_lr)\n\nprediction_lr = lr.predict([[8,0,8]])\nprint(\"prediction (expect True)=\",prediction_lr)",
      "execution_count": null,
      "outputs": []
    },
    {
      "metadata": {
        "_uuid": "c037a9df82bd030d7af0a366286b9eacc1a7f758"
      },
      "cell_type": "markdown",
      "source": "# Simulate Blackjack games using different models"
    },
    {
      "metadata": {
        "trusted": true,
        "_uuid": "353b04c172644c3959cef632cbc2737f78123fbb"
      },
      "cell_type": "code",
      "source": "#build the decision making (Logistic Regression)\ndef should_hit(player_total, dealer_card_val, player_aces):\n    prediction_lr = lr.predict([[dealer_card_val,player_aces,player_total]])\n    return prediction_lr\n\nprint(\"Logistic Regression Model\")\nblackjack.simulate(n_games=10000)\n",
      "execution_count": null,
      "outputs": []
    },
    {
      "metadata": {
        "trusted": true,
        "_uuid": "8b35e134261df0b0ce815b4f7172c369d88931d6"
      },
      "cell_type": "code",
      "source": "#build the decision making (Naive Bayes)\ndef should_hit(player_total, dealer_card_val, player_aces):\n    prediction= NB_classifier.predict([[dealer_card_val,player_aces,player_total]])\n    return prediction\nprint(\"Naive Bayes Model\")\nblackjack.simulate(n_games=10000)",
      "execution_count": null,
      "outputs": []
    },
    {
      "metadata": {
        "trusted": true,
        "_uuid": "c793ef9c6bef11686a807d5bd1472621e83ad647"
      },
      "cell_type": "code",
      "source": "#build the decision making (Random Forest Classifier)\ndef should_hit(player_total, dealer_card_val, player_aces):\n    prediction= RF_classifier.predict([[dealer_card_val,player_aces,player_total]])\n    return prediction\nprint(\"Random Forest Model\")\nblackjack.simulate(n_games=1000)",
      "execution_count": null,
      "outputs": []
    },
    {
      "metadata": {
        "trusted": true,
        "_uuid": "d878a649bf2d7ea98a28e7dbfa2591fad9fe6159"
      },
      "cell_type": "code",
      "source": "#WL - build the decision making (Neural Network)\ndef should_hit(player_total, dealer_card_val, player_aces):\n    prediction= nn.predict([[dealer_card_val,player_aces,player_total]])\n    return prediction\nprint(\"Neural Network Model\")\nblackjack.simulate(n_games=10000)",
      "execution_count": null,
      "outputs": []
    },
    {
      "metadata": {
        "trusted": true,
        "_uuid": "fd8c28726104f0131122e221baec9974c77ef441"
      },
      "cell_type": "code",
      "source": "",
      "execution_count": null,
      "outputs": []
    }
  ],
  "metadata": {
    "kernelspec": {
      "display_name": "Python 3",
      "language": "python",
      "name": "python3"
    },
    "language_info": {
      "name": "python",
      "version": "3.6.6",
      "mimetype": "text/x-python",
      "codemirror_mode": {
        "name": "ipython",
        "version": 3
      },
      "pygments_lexer": "ipython3",
      "nbconvert_exporter": "python",
      "file_extension": ".py"
    }
  },
  "nbformat": 4,
  "nbformat_minor": 1
}